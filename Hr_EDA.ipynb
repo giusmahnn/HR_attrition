{
 "cells": [
  {
   "cell_type": "code",
   "execution_count": 33,
   "metadata": {},
   "outputs": [],
   "source": [
    "# we import our modules\n",
    "import pandas as pd"
   ]
  },
  {
   "cell_type": "code",
   "execution_count": 34,
   "metadata": {},
   "outputs": [
    {
     "data": {
      "text/html": [
       "<div>\n",
       "<style scoped>\n",
       "    .dataframe tbody tr th:only-of-type {\n",
       "        vertical-align: middle;\n",
       "    }\n",
       "\n",
       "    .dataframe tbody tr th {\n",
       "        vertical-align: top;\n",
       "    }\n",
       "\n",
       "    .dataframe thead th {\n",
       "        text-align: right;\n",
       "    }\n",
       "</style>\n",
       "<table border=\"1\" class=\"dataframe\">\n",
       "  <thead>\n",
       "    <tr style=\"text-align: right;\">\n",
       "      <th></th>\n",
       "      <th>id</th>\n",
       "      <th>Age</th>\n",
       "      <th>Attrition</th>\n",
       "      <th>BusinessTravel</th>\n",
       "      <th>DailyRate</th>\n",
       "      <th>Department</th>\n",
       "      <th>DistanceFromHome</th>\n",
       "      <th>Education</th>\n",
       "      <th>EducationField</th>\n",
       "      <th>EmployeeCount</th>\n",
       "      <th>EmployeeNumber</th>\n",
       "      <th>EnvironmentSatisfaction</th>\n",
       "      <th>Gender</th>\n",
       "      <th>HourlyRate</th>\n",
       "      <th>JobInvolvement</th>\n",
       "      <th>JobLevel</th>\n",
       "      <th>JobRole</th>\n",
       "      <th>JobSatisfaction</th>\n",
       "      <th>MaritalStatus</th>\n",
       "      <th>MonthlyIncome</th>\n",
       "      <th>MonthlyRate</th>\n",
       "      <th>NumCompaniesWorked</th>\n",
       "      <th>Over18</th>\n",
       "      <th>OverTime</th>\n",
       "      <th>PercentSalaryHike</th>\n",
       "      <th>PerformanceRating</th>\n",
       "      <th>RelationshipSatisfaction</th>\n",
       "      <th>StandardHours</th>\n",
       "      <th>StockOptionLevel</th>\n",
       "      <th>TotalWorkingYears</th>\n",
       "      <th>TrainingTimesLastYear</th>\n",
       "      <th>WorkLifeBalance</th>\n",
       "      <th>YearsAtCompany</th>\n",
       "      <th>YearsInCurrentRole</th>\n",
       "      <th>YearsSinceLastPromotion</th>\n",
       "      <th>YearsWithCurrManager</th>\n",
       "    </tr>\n",
       "  </thead>\n",
       "  <tbody>\n",
       "    <tr>\n",
       "      <th>0</th>\n",
       "      <td>1</td>\n",
       "      <td>41</td>\n",
       "      <td>Yes</td>\n",
       "      <td>Travel_Rarely</td>\n",
       "      <td>1102</td>\n",
       "      <td>Sales</td>\n",
       "      <td>1</td>\n",
       "      <td>2</td>\n",
       "      <td>Life Sciences</td>\n",
       "      <td>1</td>\n",
       "      <td>1</td>\n",
       "      <td>2</td>\n",
       "      <td>Female</td>\n",
       "      <td>94</td>\n",
       "      <td>3</td>\n",
       "      <td>2</td>\n",
       "      <td>Sales Executive</td>\n",
       "      <td>4</td>\n",
       "      <td>Single</td>\n",
       "      <td>5993</td>\n",
       "      <td>19479</td>\n",
       "      <td>8</td>\n",
       "      <td>Y</td>\n",
       "      <td>Yes</td>\n",
       "      <td>11</td>\n",
       "      <td>3</td>\n",
       "      <td>1</td>\n",
       "      <td>80</td>\n",
       "      <td>0</td>\n",
       "      <td>8</td>\n",
       "      <td>0</td>\n",
       "      <td>1</td>\n",
       "      <td>6</td>\n",
       "      <td>4</td>\n",
       "      <td>0</td>\n",
       "      <td>5</td>\n",
       "    </tr>\n",
       "    <tr>\n",
       "      <th>1</th>\n",
       "      <td>2</td>\n",
       "      <td>49</td>\n",
       "      <td>No</td>\n",
       "      <td>Travel_Frequently</td>\n",
       "      <td>279</td>\n",
       "      <td>Research &amp; Development</td>\n",
       "      <td>8</td>\n",
       "      <td>1</td>\n",
       "      <td>Life Sciences</td>\n",
       "      <td>1</td>\n",
       "      <td>2</td>\n",
       "      <td>3</td>\n",
       "      <td>Male</td>\n",
       "      <td>61</td>\n",
       "      <td>2</td>\n",
       "      <td>2</td>\n",
       "      <td>Research Scientist</td>\n",
       "      <td>2</td>\n",
       "      <td>Married</td>\n",
       "      <td>5130</td>\n",
       "      <td>24907</td>\n",
       "      <td>1</td>\n",
       "      <td>Y</td>\n",
       "      <td>No</td>\n",
       "      <td>23</td>\n",
       "      <td>4</td>\n",
       "      <td>4</td>\n",
       "      <td>80</td>\n",
       "      <td>1</td>\n",
       "      <td>10</td>\n",
       "      <td>3</td>\n",
       "      <td>3</td>\n",
       "      <td>10</td>\n",
       "      <td>7</td>\n",
       "      <td>1</td>\n",
       "      <td>7</td>\n",
       "    </tr>\n",
       "    <tr>\n",
       "      <th>2</th>\n",
       "      <td>3</td>\n",
       "      <td>37</td>\n",
       "      <td>Yes</td>\n",
       "      <td>Travel_Rarely</td>\n",
       "      <td>1373</td>\n",
       "      <td>Research &amp; Development</td>\n",
       "      <td>2</td>\n",
       "      <td>2</td>\n",
       "      <td>Other</td>\n",
       "      <td>1</td>\n",
       "      <td>4</td>\n",
       "      <td>4</td>\n",
       "      <td>Male</td>\n",
       "      <td>92</td>\n",
       "      <td>2</td>\n",
       "      <td>1</td>\n",
       "      <td>Laboratory Technician</td>\n",
       "      <td>3</td>\n",
       "      <td>Single</td>\n",
       "      <td>2090</td>\n",
       "      <td>2396</td>\n",
       "      <td>6</td>\n",
       "      <td>Y</td>\n",
       "      <td>Yes</td>\n",
       "      <td>15</td>\n",
       "      <td>3</td>\n",
       "      <td>2</td>\n",
       "      <td>80</td>\n",
       "      <td>0</td>\n",
       "      <td>7</td>\n",
       "      <td>3</td>\n",
       "      <td>3</td>\n",
       "      <td>0</td>\n",
       "      <td>0</td>\n",
       "      <td>0</td>\n",
       "      <td>0</td>\n",
       "    </tr>\n",
       "    <tr>\n",
       "      <th>3</th>\n",
       "      <td>4</td>\n",
       "      <td>33</td>\n",
       "      <td>No</td>\n",
       "      <td>Travel_Frequently</td>\n",
       "      <td>1392</td>\n",
       "      <td>Research &amp; Development</td>\n",
       "      <td>3</td>\n",
       "      <td>4</td>\n",
       "      <td>Life Sciences</td>\n",
       "      <td>1</td>\n",
       "      <td>5</td>\n",
       "      <td>4</td>\n",
       "      <td>Female</td>\n",
       "      <td>56</td>\n",
       "      <td>3</td>\n",
       "      <td>1</td>\n",
       "      <td>Research Scientist</td>\n",
       "      <td>3</td>\n",
       "      <td>Married</td>\n",
       "      <td>2909</td>\n",
       "      <td>23159</td>\n",
       "      <td>1</td>\n",
       "      <td>Y</td>\n",
       "      <td>Yes</td>\n",
       "      <td>11</td>\n",
       "      <td>3</td>\n",
       "      <td>3</td>\n",
       "      <td>80</td>\n",
       "      <td>0</td>\n",
       "      <td>8</td>\n",
       "      <td>3</td>\n",
       "      <td>3</td>\n",
       "      <td>8</td>\n",
       "      <td>7</td>\n",
       "      <td>3</td>\n",
       "      <td>0</td>\n",
       "    </tr>\n",
       "    <tr>\n",
       "      <th>4</th>\n",
       "      <td>5</td>\n",
       "      <td>27</td>\n",
       "      <td>No</td>\n",
       "      <td>Travel_Rarely</td>\n",
       "      <td>591</td>\n",
       "      <td>Research &amp; Development</td>\n",
       "      <td>2</td>\n",
       "      <td>1</td>\n",
       "      <td>Medical</td>\n",
       "      <td>1</td>\n",
       "      <td>7</td>\n",
       "      <td>1</td>\n",
       "      <td>Male</td>\n",
       "      <td>40</td>\n",
       "      <td>3</td>\n",
       "      <td>1</td>\n",
       "      <td>Laboratory Technician</td>\n",
       "      <td>2</td>\n",
       "      <td>Married</td>\n",
       "      <td>3468</td>\n",
       "      <td>16632</td>\n",
       "      <td>9</td>\n",
       "      <td>Y</td>\n",
       "      <td>No</td>\n",
       "      <td>12</td>\n",
       "      <td>3</td>\n",
       "      <td>4</td>\n",
       "      <td>80</td>\n",
       "      <td>1</td>\n",
       "      <td>6</td>\n",
       "      <td>3</td>\n",
       "      <td>3</td>\n",
       "      <td>2</td>\n",
       "      <td>2</td>\n",
       "      <td>2</td>\n",
       "      <td>2</td>\n",
       "    </tr>\n",
       "  </tbody>\n",
       "</table>\n",
       "</div>"
      ],
      "text/plain": [
       "   id  Age Attrition     BusinessTravel  DailyRate              Department  \\\n",
       "0   1   41       Yes      Travel_Rarely       1102                   Sales   \n",
       "1   2   49        No  Travel_Frequently        279  Research & Development   \n",
       "2   3   37       Yes      Travel_Rarely       1373  Research & Development   \n",
       "3   4   33        No  Travel_Frequently       1392  Research & Development   \n",
       "4   5   27        No      Travel_Rarely        591  Research & Development   \n",
       "\n",
       "   DistanceFromHome  Education EducationField  EmployeeCount  EmployeeNumber  \\\n",
       "0                 1          2  Life Sciences              1               1   \n",
       "1                 8          1  Life Sciences              1               2   \n",
       "2                 2          2          Other              1               4   \n",
       "3                 3          4  Life Sciences              1               5   \n",
       "4                 2          1        Medical              1               7   \n",
       "\n",
       "   EnvironmentSatisfaction  Gender  HourlyRate  JobInvolvement  JobLevel  \\\n",
       "0                        2  Female          94               3         2   \n",
       "1                        3    Male          61               2         2   \n",
       "2                        4    Male          92               2         1   \n",
       "3                        4  Female          56               3         1   \n",
       "4                        1    Male          40               3         1   \n",
       "\n",
       "                 JobRole  JobSatisfaction MaritalStatus  MonthlyIncome  \\\n",
       "0        Sales Executive                4        Single           5993   \n",
       "1     Research Scientist                2       Married           5130   \n",
       "2  Laboratory Technician                3        Single           2090   \n",
       "3     Research Scientist                3       Married           2909   \n",
       "4  Laboratory Technician                2       Married           3468   \n",
       "\n",
       "   MonthlyRate  NumCompaniesWorked Over18 OverTime  PercentSalaryHike  \\\n",
       "0        19479                   8      Y      Yes                 11   \n",
       "1        24907                   1      Y       No                 23   \n",
       "2         2396                   6      Y      Yes                 15   \n",
       "3        23159                   1      Y      Yes                 11   \n",
       "4        16632                   9      Y       No                 12   \n",
       "\n",
       "   PerformanceRating  RelationshipSatisfaction  StandardHours  \\\n",
       "0                  3                         1             80   \n",
       "1                  4                         4             80   \n",
       "2                  3                         2             80   \n",
       "3                  3                         3             80   \n",
       "4                  3                         4             80   \n",
       "\n",
       "   StockOptionLevel  TotalWorkingYears  TrainingTimesLastYear  \\\n",
       "0                 0                  8                      0   \n",
       "1                 1                 10                      3   \n",
       "2                 0                  7                      3   \n",
       "3                 0                  8                      3   \n",
       "4                 1                  6                      3   \n",
       "\n",
       "   WorkLifeBalance  YearsAtCompany  YearsInCurrentRole  \\\n",
       "0                1               6                   4   \n",
       "1                3              10                   7   \n",
       "2                3               0                   0   \n",
       "3                3               8                   7   \n",
       "4                3               2                   2   \n",
       "\n",
       "   YearsSinceLastPromotion  YearsWithCurrManager  \n",
       "0                        0                     5  \n",
       "1                        1                     7  \n",
       "2                        0                     0  \n",
       "3                        3                     0  \n",
       "4                        2                     2  "
      ]
     },
     "execution_count": 34,
     "metadata": {},
     "output_type": "execute_result"
    }
   ],
   "source": [
    "# displaying all columns in the dataset\n",
    "pd.set_option('display.max_columns', None)\n",
    "\n",
    "#reading and displaying the dataset in pandas\n",
    "data = pd.read_csv('Attrition.csv', low_memory=False)\n",
    "\n",
    "# Made a copy of our dataset\n",
    "df = data.copy()\n",
    "\n",
    "df.head()"
   ]
  },
  {
   "cell_type": "code",
   "execution_count": 35,
   "metadata": {},
   "outputs": [
    {
     "name": "stdout",
     "output_type": "stream",
     "text": [
      "<class 'pandas.core.frame.DataFrame'>\n",
      "RangeIndex: 1470 entries, 0 to 1469\n",
      "Data columns (total 36 columns):\n",
      " #   Column                    Non-Null Count  Dtype \n",
      "---  ------                    --------------  ----- \n",
      " 0   id                        1470 non-null   int64 \n",
      " 1   Age                       1470 non-null   int64 \n",
      " 2   Attrition                 1470 non-null   object\n",
      " 3   BusinessTravel            1470 non-null   object\n",
      " 4   DailyRate                 1470 non-null   int64 \n",
      " 5   Department                1470 non-null   object\n",
      " 6   DistanceFromHome          1470 non-null   int64 \n",
      " 7   Education                 1470 non-null   int64 \n",
      " 8   EducationField            1470 non-null   object\n",
      " 9   EmployeeCount             1470 non-null   int64 \n",
      " 10  EmployeeNumber            1470 non-null   int64 \n",
      " 11  EnvironmentSatisfaction   1470 non-null   int64 \n",
      " 12  Gender                    1470 non-null   object\n",
      " 13  HourlyRate                1470 non-null   int64 \n",
      " 14  JobInvolvement            1470 non-null   int64 \n",
      " 15  JobLevel                  1470 non-null   int64 \n",
      " 16  JobRole                   1470 non-null   object\n",
      " 17  JobSatisfaction           1470 non-null   int64 \n",
      " 18  MaritalStatus             1470 non-null   object\n",
      " 19  MonthlyIncome             1470 non-null   int64 \n",
      " 20  MonthlyRate               1470 non-null   int64 \n",
      " 21  NumCompaniesWorked        1470 non-null   int64 \n",
      " 22  Over18                    1470 non-null   object\n",
      " 23  OverTime                  1470 non-null   object\n",
      " 24  PercentSalaryHike         1470 non-null   int64 \n",
      " 25  PerformanceRating         1470 non-null   int64 \n",
      " 26  RelationshipSatisfaction  1470 non-null   int64 \n",
      " 27  StandardHours             1470 non-null   int64 \n",
      " 28  StockOptionLevel          1470 non-null   int64 \n",
      " 29  TotalWorkingYears         1470 non-null   int64 \n",
      " 30  TrainingTimesLastYear     1470 non-null   int64 \n",
      " 31  WorkLifeBalance           1470 non-null   int64 \n",
      " 32  YearsAtCompany            1470 non-null   int64 \n",
      " 33  YearsInCurrentRole        1470 non-null   int64 \n",
      " 34  YearsSinceLastPromotion   1470 non-null   int64 \n",
      " 35  YearsWithCurrManager      1470 non-null   int64 \n",
      "dtypes: int64(27), object(9)\n",
      "memory usage: 413.6+ KB\n"
     ]
    }
   ],
   "source": [
    "# We display a little information about each column in our dataset\n",
    "df.info()"
   ]
  },
  {
   "cell_type": "code",
   "execution_count": 36,
   "metadata": {},
   "outputs": [
    {
     "data": {
      "text/plain": [
       "id                          0\n",
       "Age                         0\n",
       "Attrition                   0\n",
       "BusinessTravel              0\n",
       "DailyRate                   0\n",
       "Department                  0\n",
       "DistanceFromHome            0\n",
       "Education                   0\n",
       "EducationField              0\n",
       "EmployeeCount               0\n",
       "EmployeeNumber              0\n",
       "EnvironmentSatisfaction     0\n",
       "Gender                      0\n",
       "HourlyRate                  0\n",
       "JobInvolvement              0\n",
       "JobLevel                    0\n",
       "JobRole                     0\n",
       "JobSatisfaction             0\n",
       "MaritalStatus               0\n",
       "MonthlyIncome               0\n",
       "MonthlyRate                 0\n",
       "NumCompaniesWorked          0\n",
       "Over18                      0\n",
       "OverTime                    0\n",
       "PercentSalaryHike           0\n",
       "PerformanceRating           0\n",
       "RelationshipSatisfaction    0\n",
       "StandardHours               0\n",
       "StockOptionLevel            0\n",
       "TotalWorkingYears           0\n",
       "TrainingTimesLastYear       0\n",
       "WorkLifeBalance             0\n",
       "YearsAtCompany              0\n",
       "YearsInCurrentRole          0\n",
       "YearsSinceLastPromotion     0\n",
       "YearsWithCurrManager        0\n",
       "dtype: int64"
      ]
     },
     "execution_count": 36,
     "metadata": {},
     "output_type": "execute_result"
    }
   ],
   "source": [
    "# Checked to see the sum of null values\n",
    "df.isnull().sum()"
   ]
  },
  {
   "cell_type": "code",
   "execution_count": 37,
   "metadata": {},
   "outputs": [
    {
     "data": {
      "text/plain": [
       "id                           int64\n",
       "Age                          int64\n",
       "Attrition                   object\n",
       "BusinessTravel              object\n",
       "DailyRate                    int64\n",
       "Department                  object\n",
       "DistanceFromHome             int64\n",
       "Education                    int64\n",
       "EducationField              object\n",
       "EmployeeCount                int64\n",
       "EmployeeNumber               int64\n",
       "EnvironmentSatisfaction      int64\n",
       "Gender                      object\n",
       "HourlyRate                   int64\n",
       "JobInvolvement               int64\n",
       "JobLevel                     int64\n",
       "JobRole                     object\n",
       "JobSatisfaction              int64\n",
       "MaritalStatus               object\n",
       "MonthlyIncome                int64\n",
       "MonthlyRate                  int64\n",
       "NumCompaniesWorked           int64\n",
       "Over18                      object\n",
       "OverTime                    object\n",
       "PercentSalaryHike            int64\n",
       "PerformanceRating            int64\n",
       "RelationshipSatisfaction     int64\n",
       "StandardHours                int64\n",
       "StockOptionLevel             int64\n",
       "TotalWorkingYears            int64\n",
       "TrainingTimesLastYear        int64\n",
       "WorkLifeBalance              int64\n",
       "YearsAtCompany               int64\n",
       "YearsInCurrentRole           int64\n",
       "YearsSinceLastPromotion      int64\n",
       "YearsWithCurrManager         int64\n",
       "dtype: object"
      ]
     },
     "execution_count": 37,
     "metadata": {},
     "output_type": "execute_result"
    }
   ],
   "source": [
    "# To ensure our column haas the right data types\n",
    "df.dtypes"
   ]
  },
  {
   "cell_type": "markdown",
   "metadata": {},
   "source": [
    "# Data Modeling Stage\n"
   ]
  },
  {
   "cell_type": "markdown",
   "metadata": {},
   "source": [
    "### We begin to check our Attriion column to see if how many unique values we have in our column\n",
    "### Our output shows that we have two unique values of Yes and No"
   ]
  },
  {
   "cell_type": "code",
   "execution_count": 38,
   "metadata": {},
   "outputs": [
    {
     "data": {
      "text/plain": [
       "array(['Yes', 'No'], dtype=object)"
      ]
     },
     "execution_count": 38,
     "metadata": {},
     "output_type": "execute_result"
    }
   ],
   "source": [
    "df['Attrition'].unique()"
   ]
  },
  {
   "cell_type": "markdown",
   "metadata": {},
   "source": [
    "# Age column"
   ]
  },
  {
   "cell_type": "markdown",
   "metadata": {},
   "source": [
    "### We only want to bring out our unique age value and have theem sorted in numerical order"
   ]
  },
  {
   "cell_type": "code",
   "execution_count": 39,
   "metadata": {},
   "outputs": [
    {
     "name": "stdout",
     "output_type": "stream",
     "text": [
      "18, 19, 20, 21, 22, 23, 24, 25, 26, 27, 28, 29, 30, 31, 32, 33, 34, 35, 36, 37, 38, 39, 40, 41, 42, 43, 44, 45, 46, 47, 48, 49, 50, 51, 52, 53, 54, 55, 56, 57, 58, 59, 60, "
     ]
    }
   ],
   "source": [
    "# We get the unique values for the age column\n",
    "age = df['Age'].unique()\n",
    "\n",
    "# we then initiate a for loop to iterate through and sort our unique age\n",
    "for i in sorted(age):\n",
    "    print(i, end=', ')"
   ]
  },
  {
   "cell_type": "markdown",
   "metadata": {},
   "source": [
    "### Our min age is 18 and max age is 60, so we group the ages into 3 age categories"
   ]
  },
  {
   "cell_type": "code",
   "execution_count": 40,
   "metadata": {},
   "outputs": [
    {
     "data": {
      "text/html": [
       "<div>\n",
       "<style scoped>\n",
       "    .dataframe tbody tr th:only-of-type {\n",
       "        vertical-align: middle;\n",
       "    }\n",
       "\n",
       "    .dataframe tbody tr th {\n",
       "        vertical-align: top;\n",
       "    }\n",
       "\n",
       "    .dataframe thead th {\n",
       "        text-align: right;\n",
       "    }\n",
       "</style>\n",
       "<table border=\"1\" class=\"dataframe\">\n",
       "  <thead>\n",
       "    <tr style=\"text-align: right;\">\n",
       "      <th></th>\n",
       "      <th>Age</th>\n",
       "      <th>Age_group</th>\n",
       "    </tr>\n",
       "  </thead>\n",
       "  <tbody>\n",
       "    <tr>\n",
       "      <th>1397</th>\n",
       "      <td>54</td>\n",
       "      <td>46-60</td>\n",
       "    </tr>\n",
       "    <tr>\n",
       "      <th>764</th>\n",
       "      <td>28</td>\n",
       "      <td>18-30</td>\n",
       "    </tr>\n",
       "    <tr>\n",
       "      <th>533</th>\n",
       "      <td>40</td>\n",
       "      <td>31-45</td>\n",
       "    </tr>\n",
       "    <tr>\n",
       "      <th>754</th>\n",
       "      <td>33</td>\n",
       "      <td>31-45</td>\n",
       "    </tr>\n",
       "    <tr>\n",
       "      <th>699</th>\n",
       "      <td>52</td>\n",
       "      <td>46-60</td>\n",
       "    </tr>\n",
       "  </tbody>\n",
       "</table>\n",
       "</div>"
      ],
      "text/plain": [
       "      Age Age_group\n",
       "1397   54     46-60\n",
       "764    28     18-30\n",
       "533    40     31-45\n",
       "754    33     31-45\n",
       "699    52     46-60"
      ]
     },
     "execution_count": 40,
     "metadata": {},
     "output_type": "execute_result"
    }
   ],
   "source": [
    "# Define the bin edges for age grouping\n",
    "bins = [18, 31, 46, 61]\n",
    "\n",
    "# Define labels for each age group\n",
    "group = ['18-30', '31-45', '46-60']\n",
    "\n",
    "# Apply binning to the 'Age' column using the defined bins and labels\n",
    "df['Age_group'] = pd.cut(df['Age'], bins=bins, labels=group, right=False)\n",
    "\n",
    "# Sample and display 5 rows after the transformation\n",
    "df[['Age', 'Age_group']].sample(5)\n"
   ]
  },
  {
   "cell_type": "markdown",
   "metadata": {},
   "source": [
    "# DistanceFromHome"
   ]
  },
  {
   "cell_type": "markdown",
   "metadata": {},
   "source": [
    "### we sort out the unique values of our column in numerical order to easily get the lowest, higest and to the determine the range"
   ]
  },
  {
   "cell_type": "code",
   "execution_count": 41,
   "metadata": {},
   "outputs": [
    {
     "name": "stdout",
     "output_type": "stream",
     "text": [
      "1, 2, 3, 4, 5, 6, 7, 8, 9, 10, 11, 12, 13, 14, 15, 16, 17, 18, 19, 20, 21, 22, 23, 24, 25, 26, 27, 28, 29, "
     ]
    }
   ],
   "source": [
    "\n",
    "for i in sorted(df.DistanceFromHome.unique()):\n",
    "    print(i, end=', ')"
   ]
  },
  {
   "cell_type": "code",
   "execution_count": 42,
   "metadata": {},
   "outputs": [
    {
     "data": {
      "text/html": [
       "<div>\n",
       "<style scoped>\n",
       "    .dataframe tbody tr th:only-of-type {\n",
       "        vertical-align: middle;\n",
       "    }\n",
       "\n",
       "    .dataframe tbody tr th {\n",
       "        vertical-align: top;\n",
       "    }\n",
       "\n",
       "    .dataframe thead th {\n",
       "        text-align: right;\n",
       "    }\n",
       "</style>\n",
       "<table border=\"1\" class=\"dataframe\">\n",
       "  <thead>\n",
       "    <tr style=\"text-align: right;\">\n",
       "      <th></th>\n",
       "      <th>DistanceFromHome</th>\n",
       "      <th>Distance_group</th>\n",
       "    </tr>\n",
       "  </thead>\n",
       "  <tbody>\n",
       "    <tr>\n",
       "      <th>913</th>\n",
       "      <td>2</td>\n",
       "      <td>Near-by</td>\n",
       "    </tr>\n",
       "    <tr>\n",
       "      <th>359</th>\n",
       "      <td>3</td>\n",
       "      <td>Near-by</td>\n",
       "    </tr>\n",
       "    <tr>\n",
       "      <th>944</th>\n",
       "      <td>1</td>\n",
       "      <td>Near-by</td>\n",
       "    </tr>\n",
       "    <tr>\n",
       "      <th>104</th>\n",
       "      <td>2</td>\n",
       "      <td>Near-by</td>\n",
       "    </tr>\n",
       "    <tr>\n",
       "      <th>1131</th>\n",
       "      <td>10</td>\n",
       "      <td>Far</td>\n",
       "    </tr>\n",
       "  </tbody>\n",
       "</table>\n",
       "</div>"
      ],
      "text/plain": [
       "      DistanceFromHome Distance_group\n",
       "913                  2        Near-by\n",
       "359                  3        Near-by\n",
       "944                  1        Near-by\n",
       "104                  2        Near-by\n",
       "1131                10            Far"
      ]
     },
     "execution_count": 42,
     "metadata": {},
     "output_type": "execute_result"
    }
   ],
   "source": [
    "# Define the bin edges for distance grouping\n",
    "bins= [1, 10, 20, 30]\n",
    "\n",
    "# We define labels for our values\n",
    "labels = ['Near-by', 'Far', 'Very far']\n",
    "\n",
    "# Apply binning to the 'DistanceFromHome' column using the defined bins and labels\n",
    "df['Distance_group'] = pd.cut(df['DistanceFromHome'], bins=bins, labels=labels, right=False)\n",
    "\n",
    "# Sample and display 5 rows after the transformation\n",
    "df[['DistanceFromHome', 'Distance_group']].sample(5)"
   ]
  },
  {
   "cell_type": "markdown",
   "metadata": {},
   "source": [
    "# PerformanceRating"
   ]
  },
  {
   "cell_type": "code",
   "execution_count": 43,
   "metadata": {},
   "outputs": [
    {
     "data": {
      "text/plain": [
       "array([3, 4], dtype=int64)"
      ]
     },
     "execution_count": 43,
     "metadata": {},
     "output_type": "execute_result"
    }
   ],
   "source": [
    "# We get the unique values from our column\n",
    "df['PerformanceRating'].unique()"
   ]
  },
  {
   "cell_type": "code",
   "execution_count": 44,
   "metadata": {},
   "outputs": [
    {
     "data": {
      "text/plain": [
       "247     Low\n",
       "76      Low\n",
       "938     Low\n",
       "1422    Low\n",
       "624     Low\n",
       "Name: PerformanceRating, dtype: object"
      ]
     },
     "execution_count": 44,
     "metadata": {},
     "output_type": "execute_result"
    }
   ],
   "source": [
    "# we make use of the map function to reassign the data in the column\n",
    "df.PerformanceRating = df.PerformanceRating.map({3: 'Low', 4: 'High'})\n",
    "\n",
    "# Sample and display 5 rows after the transformation\n",
    "df.PerformanceRating.sample(5)"
   ]
  },
  {
   "cell_type": "markdown",
   "metadata": {},
   "source": [
    "# JobLevel"
   ]
  },
  {
   "cell_type": "code",
   "execution_count": 45,
   "metadata": {},
   "outputs": [
    {
     "data": {
      "text/plain": [
       "array([2, 1, 3, 4, 5], dtype=int64)"
      ]
     },
     "execution_count": 45,
     "metadata": {},
     "output_type": "execute_result"
    }
   ],
   "source": [
    "# Display unique values in our column\n",
    "df.JobLevel.unique()"
   ]
  },
  {
   "cell_type": "code",
   "execution_count": 46,
   "metadata": {},
   "outputs": [
    {
     "data": {
      "text/plain": [
       "477               Executive\n",
       "338     Junior or Associate\n",
       "987    Mid level Specialist\n",
       "941     Junior or Associate\n",
       "396     Junior or Associate\n",
       "Name: JobLevel, dtype: object"
      ]
     },
     "execution_count": 46,
     "metadata": {},
     "output_type": "execute_result"
    }
   ],
   "source": [
    "# we make use of the map function to reassign the data in the column\n",
    "df.JobLevel = df.JobLevel.map({1: 'Entry level',\n",
    "                               2: 'Junior or Associate',\n",
    "                               3: 'Mid level Specialist',\n",
    "                               4: 'Senior',\n",
    "                               5: 'Executive'})\n",
    "\n",
    "# Sample and display 5 rows after the transformation\n",
    "df.JobLevel.sample(5)"
   ]
  },
  {
   "cell_type": "markdown",
   "metadata": {},
   "source": [
    "# EnvironmentSatisfaction, RelationshipSatisfaction, JobSatisfaction, JobInvolvement"
   ]
  },
  {
   "cell_type": "markdown",
   "metadata": {},
   "source": [
    "### We follow the same procedure of getting our unique values first before acting on the columns"
   ]
  },
  {
   "cell_type": "code",
   "execution_count": 47,
   "metadata": {},
   "outputs": [
    {
     "name": "stdout",
     "output_type": "stream",
     "text": [
      "Unique values for EnvironmentSatisfaction: [2 3 4 1]\n",
      "Unique values for RelationshipSatisfaction: [1 4 2 3]\n",
      "Unique values for JobSatisfaction: [4 2 3 1]\n",
      "Unique values for JobInvolvement: [3 2 4 1]\n"
     ]
    }
   ],
   "source": [
    "# Create a list of our data columns.\n",
    "columns = ['EnvironmentSatisfaction', 'RelationshipSatisfaction', 'JobSatisfaction', 'JobInvolvement']\n",
    "\n",
    "# we then iterate through each column to check and print out then unique values it finds.\n",
    "for column in columns:\n",
    "    unique_values = df[column].unique()\n",
    "    print(f\"Unique values for {column}: {unique_values}\")"
   ]
  },
  {
   "cell_type": "code",
   "execution_count": 48,
   "metadata": {},
   "outputs": [],
   "source": [
    "# Define a function to map integer values to corresponding satisfaction levels\n",
    "def map_values(value):\n",
    "    if value == 1:\n",
    "        return 'Very dissatisfied'\n",
    "    elif value == 2:\n",
    "        return 'Dissatisfied'\n",
    "    elif value == 3:\n",
    "        return 'Satisfied'\n",
    "    else:\n",
    "        return 'Very satisfied'\n",
    "\n",
    "# Specify the columns to be transformed\n",
    "columns = ['EnvironmentSatisfaction', 'RelationshipSatisfaction', 'JobSatisfaction', 'JobInvolvement']\n",
    "\n",
    "# Apply the map_values function to each column\n",
    "for column in columns:\n",
    "    df[column] = df[column].apply(map_values)"
   ]
  },
  {
   "cell_type": "code",
   "execution_count": 49,
   "metadata": {},
   "outputs": [
    {
     "data": {
      "text/html": [
       "<div>\n",
       "<style scoped>\n",
       "    .dataframe tbody tr th:only-of-type {\n",
       "        vertical-align: middle;\n",
       "    }\n",
       "\n",
       "    .dataframe tbody tr th {\n",
       "        vertical-align: top;\n",
       "    }\n",
       "\n",
       "    .dataframe thead th {\n",
       "        text-align: right;\n",
       "    }\n",
       "</style>\n",
       "<table border=\"1\" class=\"dataframe\">\n",
       "  <thead>\n",
       "    <tr style=\"text-align: right;\">\n",
       "      <th></th>\n",
       "      <th>EnvironmentSatisfaction</th>\n",
       "      <th>RelationshipSatisfaction</th>\n",
       "      <th>JobSatisfaction</th>\n",
       "      <th>JobInvolvement</th>\n",
       "    </tr>\n",
       "  </thead>\n",
       "  <tbody>\n",
       "    <tr>\n",
       "      <th>1266</th>\n",
       "      <td>Satisfied</td>\n",
       "      <td>Dissatisfied</td>\n",
       "      <td>Very dissatisfied</td>\n",
       "      <td>Satisfied</td>\n",
       "    </tr>\n",
       "    <tr>\n",
       "      <th>1038</th>\n",
       "      <td>Satisfied</td>\n",
       "      <td>Very dissatisfied</td>\n",
       "      <td>Very dissatisfied</td>\n",
       "      <td>Satisfied</td>\n",
       "    </tr>\n",
       "    <tr>\n",
       "      <th>543</th>\n",
       "      <td>Very dissatisfied</td>\n",
       "      <td>Satisfied</td>\n",
       "      <td>Satisfied</td>\n",
       "      <td>Very dissatisfied</td>\n",
       "    </tr>\n",
       "    <tr>\n",
       "      <th>143</th>\n",
       "      <td>Very dissatisfied</td>\n",
       "      <td>Satisfied</td>\n",
       "      <td>Satisfied</td>\n",
       "      <td>Satisfied</td>\n",
       "    </tr>\n",
       "    <tr>\n",
       "      <th>896</th>\n",
       "      <td>Satisfied</td>\n",
       "      <td>Dissatisfied</td>\n",
       "      <td>Very dissatisfied</td>\n",
       "      <td>Dissatisfied</td>\n",
       "    </tr>\n",
       "  </tbody>\n",
       "</table>\n",
       "</div>"
      ],
      "text/plain": [
       "     EnvironmentSatisfaction RelationshipSatisfaction    JobSatisfaction  \\\n",
       "1266               Satisfied             Dissatisfied  Very dissatisfied   \n",
       "1038               Satisfied        Very dissatisfied  Very dissatisfied   \n",
       "543        Very dissatisfied                Satisfied          Satisfied   \n",
       "143        Very dissatisfied                Satisfied          Satisfied   \n",
       "896                Satisfied             Dissatisfied  Very dissatisfied   \n",
       "\n",
       "         JobInvolvement  \n",
       "1266          Satisfied  \n",
       "1038          Satisfied  \n",
       "543   Very dissatisfied  \n",
       "143           Satisfied  \n",
       "896        Dissatisfied  "
      ]
     },
     "execution_count": 49,
     "metadata": {},
     "output_type": "execute_result"
    }
   ],
   "source": [
    "# Sample and display 5 rows after the transformation\n",
    "df[['EnvironmentSatisfaction', 'RelationshipSatisfaction', 'JobSatisfaction', 'JobInvolvement']].sample(5)"
   ]
  },
  {
   "cell_type": "markdown",
   "metadata": {},
   "source": [
    "# OverTime"
   ]
  },
  {
   "cell_type": "markdown",
   "metadata": {},
   "source": [
    "### we leave our OverTime column the way it it"
   ]
  },
  {
   "cell_type": "code",
   "execution_count": 50,
   "metadata": {},
   "outputs": [
    {
     "data": {
      "text/plain": [
       "array(['Yes', 'No'], dtype=object)"
      ]
     },
     "execution_count": 50,
     "metadata": {},
     "output_type": "execute_result"
    }
   ],
   "source": [
    "# Check for unique values\n",
    "df.OverTime.unique()"
   ]
  },
  {
   "cell_type": "markdown",
   "metadata": {},
   "source": [
    "# WorkLifeBalance"
   ]
  },
  {
   "cell_type": "code",
   "execution_count": 51,
   "metadata": {},
   "outputs": [
    {
     "data": {
      "text/plain": [
       "array([1, 3, 2, 4], dtype=int64)"
      ]
     },
     "execution_count": 51,
     "metadata": {},
     "output_type": "execute_result"
    }
   ],
   "source": [
    "# Check for unique values\n",
    "df.WorkLifeBalance.unique()"
   ]
  },
  {
   "cell_type": "code",
   "execution_count": 52,
   "metadata": {},
   "outputs": [
    {
     "data": {
      "text/plain": [
       "array(['Bad', 'Good', 'Average', 'Excellent'], dtype=object)"
      ]
     },
     "execution_count": 52,
     "metadata": {},
     "output_type": "execute_result"
    }
   ],
   "source": [
    "# Map numerical values to descriptive categories for the 'WorkLifeBalance' column\n",
    "df['WorkLifeBalance'] = df['WorkLifeBalance'].map({\n",
    "                                                    1: 'Bad',\n",
    "                                                    2: 'Average',\n",
    "                                                    3: 'Good',\n",
    "                                                    4: 'Excellent'\n",
    "                                                })\n",
    "\n",
    "# Display unique values after mapping\n",
    "df['WorkLifeBalance'].unique()\n"
   ]
  },
  {
   "cell_type": "markdown",
   "metadata": {},
   "source": [
    "# Education"
   ]
  },
  {
   "cell_type": "code",
   "execution_count": 53,
   "metadata": {},
   "outputs": [
    {
     "data": {
      "text/plain": [
       "array([2, 1, 4, 3, 5], dtype=int64)"
      ]
     },
     "execution_count": 53,
     "metadata": {},
     "output_type": "execute_result"
    }
   ],
   "source": [
    "# Display unique values\n",
    "df.Education.unique()"
   ]
  },
  {
   "cell_type": "code",
   "execution_count": 54,
   "metadata": {},
   "outputs": [
    {
     "data": {
      "text/plain": [
       "array(['College', 'Technical Training', 'Masters degree',\n",
       "       'Bachelors degree', 'Doctorate degree'], dtype=object)"
      ]
     },
     "execution_count": 54,
     "metadata": {},
     "output_type": "execute_result"
    }
   ],
   "source": [
    "# Map numerical values to descriptive categories for the 'Education' column\n",
    "df.Education = df.Education.map({1 : 'Technical Training',\n",
    "                                             2: 'College',\n",
    "                                             3: 'Bachelors degree',\n",
    "                                             4: 'Masters degree',\n",
    "                                             5: 'Doctorate degree'})\n",
    "\n",
    "# Display unique values after mapping\n",
    "df.Education.unique()"
   ]
  },
  {
   "cell_type": "code",
   "execution_count": 55,
   "metadata": {},
   "outputs": [
    {
     "data": {
      "text/plain": [
       "array(['Life Sciences', 'Other', 'Medical', 'Marketing',\n",
       "       'Technical Degree', 'Human Resources'], dtype=object)"
      ]
     },
     "execution_count": 55,
     "metadata": {},
     "output_type": "execute_result"
    }
   ],
   "source": [
    "# Display unique values\n",
    "df.EducationField.unique()"
   ]
  },
  {
   "cell_type": "markdown",
   "metadata": {},
   "source": [
    "# StockOption"
   ]
  },
  {
   "cell_type": "code",
   "execution_count": 56,
   "metadata": {},
   "outputs": [
    {
     "data": {
      "text/plain": [
       "array([0, 1, 3, 2], dtype=int64)"
      ]
     },
     "execution_count": 56,
     "metadata": {},
     "output_type": "execute_result"
    }
   ],
   "source": [
    "# Display Unique values\n",
    "df.StockOptionLevel.unique()"
   ]
  },
  {
   "cell_type": "code",
   "execution_count": 57,
   "metadata": {},
   "outputs": [
    {
     "data": {
      "text/plain": [
       "array(['Level 1', 'Level 2', 'Level 4', 'Level 3'], dtype=object)"
      ]
     },
     "execution_count": 57,
     "metadata": {},
     "output_type": "execute_result"
    }
   ],
   "source": [
    "# Map numerical values to descriptive categories for the 'StockOption' column\n",
    "df.StockOptionLevel = df.StockOptionLevel.map({0 : 'Level 1',\n",
    "                                1: 'Level 2',\n",
    "                                2: 'Level 3',\n",
    "                                3: 'Level 4'})\n",
    "\n",
    "#Dispaly unique values after mapping\n",
    "df.StockOptionLevel.unique()"
   ]
  },
  {
   "cell_type": "markdown",
   "metadata": {},
   "source": [
    "# TotalWorkingYears, YearsAtCompany"
   ]
  },
  {
   "cell_type": "code",
   "execution_count": 58,
   "metadata": {},
   "outputs": [
    {
     "name": "stdout",
     "output_type": "stream",
     "text": [
      "Minimum and Maximum value for TotalWorkingYears is 0 and 40\n",
      "Minimum and Maximum value for YearsAtCompany is 0 and 40\n"
     ]
    }
   ],
   "source": [
    "columns = ['TotalWorkingYears', 'YearsAtCompany']\n",
    "\n",
    "# Iterate over each column to find minimum and maximum values\n",
    "for column in columns:\n",
    "    # Calculate the minimum and maximum values for the column\n",
    "    min_value = df[column].min()\n",
    "    max_value = df[column].max()\n",
    "    \n",
    "    # Print the results\n",
    "    print(f\"Minimum and Maximum value for {column} is {min_value} and {max_value}\")\n"
   ]
  },
  {
   "cell_type": "code",
   "execution_count": 59,
   "metadata": {},
   "outputs": [
    {
     "name": "stdout",
     "output_type": "stream",
     "text": [
      "     TotalWorkingYears YearsAtCompany\n",
      "1390              1-10           1-10\n",
      "682               1-10           1-10\n",
      "664              11-20          11-20\n",
      "1202              1-10           1-10\n",
      "1286              1-10           1-10\n"
     ]
    }
   ],
   "source": [
    "# Define the bins and corresponding group labels\n",
    "bins = [0, 10, 20, 30]\n",
    "group = ['1-10', '11-20', '21-30']\n",
    "\n",
    "# Specify the columns to be processed\n",
    "columns = ['TotalWorkingYears', 'YearsAtCompany']\n",
    "\n",
    "# Iterate over each column\n",
    "for col in columns:\n",
    "    # Cut the data into bins and assign labels\n",
    "    df[col] = pd.cut(df[col], bins=bins, labels=group, right=False)\n",
    "    # Add the '31-40' category and fill missing values with it\n",
    "    df[col] = df[col].cat.add_categories('31-40').fillna('31-40')\n",
    "\n",
    "# Display a sample of the processed columns\n",
    "print(df[['TotalWorkingYears', 'YearsAtCompany']].sample(5))\n"
   ]
  },
  {
   "cell_type": "markdown",
   "metadata": {},
   "source": [
    "# Other Categorical Columns"
   ]
  },
  {
   "cell_type": "code",
   "execution_count": 60,
   "metadata": {},
   "outputs": [
    {
     "name": "stdout",
     "output_type": "stream",
     "text": [
      "Unique values for BusinessTravel: ['Travel_Rarely' 'Travel_Frequently' 'Non-Travel']\n",
      "Unique values for Department: ['Sales' 'Research & Development' 'Human Resources']\n",
      "Unique values for Gender: ['Female' 'Male']\n",
      "Unique values for MaritalStatus: ['Single' 'Married' 'Divorced']\n",
      "Unique values for Over18: ['Y']\n"
     ]
    }
   ],
   "source": [
    "columns = ['BusinessTravel', 'Department', 'Gender', 'MaritalStatus', 'Over18']\n",
    "\n",
    "# Iterate over each column\n",
    "for column in columns:\n",
    "    # Get the unique values in the column\n",
    "    unique_values = df[column].unique()\n",
    "    # Print the unique values\n",
    "    print(f\"Unique values for {column}: {unique_values}\")\n"
   ]
  },
  {
   "cell_type": "markdown",
   "metadata": {},
   "source": [
    "# Selecting our columns to be used in building our  model"
   ]
  },
  {
   "cell_type": "code",
   "execution_count": 61,
   "metadata": {},
   "outputs": [],
   "source": [
    "# Selecting specific columns\n",
    "df = df[['Age_group', 'Attrition', 'BusinessTravel', 'DailyRate', 'Department',\n",
    "       'Distance_group', 'Education', 'EducationField',\n",
    "        'EnvironmentSatisfaction', 'Gender', 'HourlyRate',\n",
    "       'JobInvolvement', 'JobLevel', 'JobRole', 'JobSatisfaction',\n",
    "       'MaritalStatus', 'MonthlyIncome', 'MonthlyRate', 'NumCompaniesWorked',\n",
    "       'Over18', 'OverTime', 'PercentSalaryHike', 'PerformanceRating',\n",
    "       'RelationshipSatisfaction', 'StandardHours', 'StockOptionLevel',\n",
    "       'TotalWorkingYears', 'TrainingTimesLastYear', 'WorkLifeBalance',\n",
    "       'YearsAtCompany', 'YearsInCurrentRole', 'YearsSinceLastPromotion',\n",
    "       'YearsWithCurrManager']]"
   ]
  },
  {
   "cell_type": "code",
   "execution_count": 62,
   "metadata": {},
   "outputs": [
    {
     "data": {
      "text/html": [
       "<div>\n",
       "<style scoped>\n",
       "    .dataframe tbody tr th:only-of-type {\n",
       "        vertical-align: middle;\n",
       "    }\n",
       "\n",
       "    .dataframe tbody tr th {\n",
       "        vertical-align: top;\n",
       "    }\n",
       "\n",
       "    .dataframe thead th {\n",
       "        text-align: right;\n",
       "    }\n",
       "</style>\n",
       "<table border=\"1\" class=\"dataframe\">\n",
       "  <thead>\n",
       "    <tr style=\"text-align: right;\">\n",
       "      <th></th>\n",
       "      <th>id</th>\n",
       "      <th>Age</th>\n",
       "      <th>Attrition</th>\n",
       "      <th>BusinessTravel</th>\n",
       "      <th>DailyRate</th>\n",
       "      <th>Department</th>\n",
       "      <th>DistanceFromHome</th>\n",
       "      <th>Education</th>\n",
       "      <th>EducationField</th>\n",
       "      <th>EmployeeCount</th>\n",
       "      <th>EmployeeNumber</th>\n",
       "      <th>EnvironmentSatisfaction</th>\n",
       "      <th>Gender</th>\n",
       "      <th>HourlyRate</th>\n",
       "      <th>JobInvolvement</th>\n",
       "      <th>JobLevel</th>\n",
       "      <th>JobRole</th>\n",
       "      <th>JobSatisfaction</th>\n",
       "      <th>MaritalStatus</th>\n",
       "      <th>MonthlyIncome</th>\n",
       "      <th>MonthlyRate</th>\n",
       "      <th>NumCompaniesWorked</th>\n",
       "      <th>Over18</th>\n",
       "      <th>OverTime</th>\n",
       "      <th>PercentSalaryHike</th>\n",
       "      <th>PerformanceRating</th>\n",
       "      <th>RelationshipSatisfaction</th>\n",
       "      <th>StandardHours</th>\n",
       "      <th>StockOptionLevel</th>\n",
       "      <th>TotalWorkingYears</th>\n",
       "      <th>TrainingTimesLastYear</th>\n",
       "      <th>WorkLifeBalance</th>\n",
       "      <th>YearsAtCompany</th>\n",
       "      <th>YearsInCurrentRole</th>\n",
       "      <th>YearsSinceLastPromotion</th>\n",
       "      <th>YearsWithCurrManager</th>\n",
       "    </tr>\n",
       "  </thead>\n",
       "  <tbody>\n",
       "    <tr>\n",
       "      <th>1075</th>\n",
       "      <td>1076</td>\n",
       "      <td>32</td>\n",
       "      <td>No</td>\n",
       "      <td>Travel_Rarely</td>\n",
       "      <td>495</td>\n",
       "      <td>Research &amp; Development</td>\n",
       "      <td>10</td>\n",
       "      <td>3</td>\n",
       "      <td>Medical</td>\n",
       "      <td>1</td>\n",
       "      <td>1516</td>\n",
       "      <td>3</td>\n",
       "      <td>Male</td>\n",
       "      <td>64</td>\n",
       "      <td>3</td>\n",
       "      <td>3</td>\n",
       "      <td>Manager</td>\n",
       "      <td>4</td>\n",
       "      <td>Single</td>\n",
       "      <td>11244</td>\n",
       "      <td>21072</td>\n",
       "      <td>2</td>\n",
       "      <td>Y</td>\n",
       "      <td>No</td>\n",
       "      <td>25</td>\n",
       "      <td>4</td>\n",
       "      <td>2</td>\n",
       "      <td>80</td>\n",
       "      <td>0</td>\n",
       "      <td>10</td>\n",
       "      <td>5</td>\n",
       "      <td>4</td>\n",
       "      <td>5</td>\n",
       "      <td>2</td>\n",
       "      <td>0</td>\n",
       "      <td>0</td>\n",
       "    </tr>\n",
       "    <tr>\n",
       "      <th>253</th>\n",
       "      <td>254</td>\n",
       "      <td>42</td>\n",
       "      <td>No</td>\n",
       "      <td>Travel_Rarely</td>\n",
       "      <td>916</td>\n",
       "      <td>Research &amp; Development</td>\n",
       "      <td>17</td>\n",
       "      <td>2</td>\n",
       "      <td>Life Sciences</td>\n",
       "      <td>1</td>\n",
       "      <td>347</td>\n",
       "      <td>4</td>\n",
       "      <td>Female</td>\n",
       "      <td>82</td>\n",
       "      <td>4</td>\n",
       "      <td>2</td>\n",
       "      <td>Research Scientist</td>\n",
       "      <td>1</td>\n",
       "      <td>Single</td>\n",
       "      <td>6545</td>\n",
       "      <td>23016</td>\n",
       "      <td>3</td>\n",
       "      <td>Y</td>\n",
       "      <td>Yes</td>\n",
       "      <td>13</td>\n",
       "      <td>3</td>\n",
       "      <td>3</td>\n",
       "      <td>80</td>\n",
       "      <td>0</td>\n",
       "      <td>10</td>\n",
       "      <td>1</td>\n",
       "      <td>3</td>\n",
       "      <td>3</td>\n",
       "      <td>2</td>\n",
       "      <td>0</td>\n",
       "      <td>2</td>\n",
       "    </tr>\n",
       "    <tr>\n",
       "      <th>732</th>\n",
       "      <td>733</td>\n",
       "      <td>30</td>\n",
       "      <td>Yes</td>\n",
       "      <td>Travel_Frequently</td>\n",
       "      <td>109</td>\n",
       "      <td>Research &amp; Development</td>\n",
       "      <td>5</td>\n",
       "      <td>3</td>\n",
       "      <td>Medical</td>\n",
       "      <td>1</td>\n",
       "      <td>1017</td>\n",
       "      <td>2</td>\n",
       "      <td>Female</td>\n",
       "      <td>60</td>\n",
       "      <td>3</td>\n",
       "      <td>1</td>\n",
       "      <td>Laboratory Technician</td>\n",
       "      <td>2</td>\n",
       "      <td>Single</td>\n",
       "      <td>2422</td>\n",
       "      <td>25725</td>\n",
       "      <td>0</td>\n",
       "      <td>Y</td>\n",
       "      <td>No</td>\n",
       "      <td>17</td>\n",
       "      <td>3</td>\n",
       "      <td>1</td>\n",
       "      <td>80</td>\n",
       "      <td>0</td>\n",
       "      <td>4</td>\n",
       "      <td>3</td>\n",
       "      <td>3</td>\n",
       "      <td>3</td>\n",
       "      <td>2</td>\n",
       "      <td>1</td>\n",
       "      <td>2</td>\n",
       "    </tr>\n",
       "    <tr>\n",
       "      <th>750</th>\n",
       "      <td>751</td>\n",
       "      <td>44</td>\n",
       "      <td>No</td>\n",
       "      <td>Travel_Rarely</td>\n",
       "      <td>1448</td>\n",
       "      <td>Sales</td>\n",
       "      <td>28</td>\n",
       "      <td>3</td>\n",
       "      <td>Medical</td>\n",
       "      <td>1</td>\n",
       "      <td>1039</td>\n",
       "      <td>4</td>\n",
       "      <td>Female</td>\n",
       "      <td>53</td>\n",
       "      <td>4</td>\n",
       "      <td>4</td>\n",
       "      <td>Sales Executive</td>\n",
       "      <td>4</td>\n",
       "      <td>Married</td>\n",
       "      <td>13320</td>\n",
       "      <td>11737</td>\n",
       "      <td>3</td>\n",
       "      <td>Y</td>\n",
       "      <td>Yes</td>\n",
       "      <td>18</td>\n",
       "      <td>3</td>\n",
       "      <td>3</td>\n",
       "      <td>80</td>\n",
       "      <td>1</td>\n",
       "      <td>23</td>\n",
       "      <td>2</td>\n",
       "      <td>3</td>\n",
       "      <td>12</td>\n",
       "      <td>11</td>\n",
       "      <td>11</td>\n",
       "      <td>11</td>\n",
       "    </tr>\n",
       "    <tr>\n",
       "      <th>400</th>\n",
       "      <td>401</td>\n",
       "      <td>39</td>\n",
       "      <td>No</td>\n",
       "      <td>Travel_Frequently</td>\n",
       "      <td>1218</td>\n",
       "      <td>Research &amp; Development</td>\n",
       "      <td>1</td>\n",
       "      <td>1</td>\n",
       "      <td>Life Sciences</td>\n",
       "      <td>1</td>\n",
       "      <td>531</td>\n",
       "      <td>2</td>\n",
       "      <td>Male</td>\n",
       "      <td>52</td>\n",
       "      <td>3</td>\n",
       "      <td>5</td>\n",
       "      <td>Manager</td>\n",
       "      <td>3</td>\n",
       "      <td>Divorced</td>\n",
       "      <td>19197</td>\n",
       "      <td>8213</td>\n",
       "      <td>1</td>\n",
       "      <td>Y</td>\n",
       "      <td>Yes</td>\n",
       "      <td>14</td>\n",
       "      <td>3</td>\n",
       "      <td>3</td>\n",
       "      <td>80</td>\n",
       "      <td>1</td>\n",
       "      <td>21</td>\n",
       "      <td>3</td>\n",
       "      <td>3</td>\n",
       "      <td>21</td>\n",
       "      <td>8</td>\n",
       "      <td>1</td>\n",
       "      <td>6</td>\n",
       "    </tr>\n",
       "  </tbody>\n",
       "</table>\n",
       "</div>"
      ],
      "text/plain": [
       "        id  Age Attrition     BusinessTravel  DailyRate  \\\n",
       "1075  1076   32        No      Travel_Rarely        495   \n",
       "253    254   42        No      Travel_Rarely        916   \n",
       "732    733   30       Yes  Travel_Frequently        109   \n",
       "750    751   44        No      Travel_Rarely       1448   \n",
       "400    401   39        No  Travel_Frequently       1218   \n",
       "\n",
       "                  Department  DistanceFromHome  Education EducationField  \\\n",
       "1075  Research & Development                10          3        Medical   \n",
       "253   Research & Development                17          2  Life Sciences   \n",
       "732   Research & Development                 5          3        Medical   \n",
       "750                    Sales                28          3        Medical   \n",
       "400   Research & Development                 1          1  Life Sciences   \n",
       "\n",
       "      EmployeeCount  EmployeeNumber  EnvironmentSatisfaction  Gender  \\\n",
       "1075              1            1516                        3    Male   \n",
       "253               1             347                        4  Female   \n",
       "732               1            1017                        2  Female   \n",
       "750               1            1039                        4  Female   \n",
       "400               1             531                        2    Male   \n",
       "\n",
       "      HourlyRate  JobInvolvement  JobLevel                JobRole  \\\n",
       "1075          64               3         3                Manager   \n",
       "253           82               4         2     Research Scientist   \n",
       "732           60               3         1  Laboratory Technician   \n",
       "750           53               4         4        Sales Executive   \n",
       "400           52               3         5                Manager   \n",
       "\n",
       "      JobSatisfaction MaritalStatus  MonthlyIncome  MonthlyRate  \\\n",
       "1075                4        Single          11244        21072   \n",
       "253                 1        Single           6545        23016   \n",
       "732                 2        Single           2422        25725   \n",
       "750                 4       Married          13320        11737   \n",
       "400                 3      Divorced          19197         8213   \n",
       "\n",
       "      NumCompaniesWorked Over18 OverTime  PercentSalaryHike  \\\n",
       "1075                   2      Y       No                 25   \n",
       "253                    3      Y      Yes                 13   \n",
       "732                    0      Y       No                 17   \n",
       "750                    3      Y      Yes                 18   \n",
       "400                    1      Y      Yes                 14   \n",
       "\n",
       "      PerformanceRating  RelationshipSatisfaction  StandardHours  \\\n",
       "1075                  4                         2             80   \n",
       "253                   3                         3             80   \n",
       "732                   3                         1             80   \n",
       "750                   3                         3             80   \n",
       "400                   3                         3             80   \n",
       "\n",
       "      StockOptionLevel  TotalWorkingYears  TrainingTimesLastYear  \\\n",
       "1075                 0                 10                      5   \n",
       "253                  0                 10                      1   \n",
       "732                  0                  4                      3   \n",
       "750                  1                 23                      2   \n",
       "400                  1                 21                      3   \n",
       "\n",
       "      WorkLifeBalance  YearsAtCompany  YearsInCurrentRole  \\\n",
       "1075                4               5                   2   \n",
       "253                 3               3                   2   \n",
       "732                 3               3                   2   \n",
       "750                 3              12                  11   \n",
       "400                 3              21                   8   \n",
       "\n",
       "      YearsSinceLastPromotion  YearsWithCurrManager  \n",
       "1075                        0                     0  \n",
       "253                         0                     2  \n",
       "732                         1                     2  \n",
       "750                        11                    11  \n",
       "400                         1                     6  "
      ]
     },
     "execution_count": 62,
     "metadata": {},
     "output_type": "execute_result"
    }
   ],
   "source": [
    "# old dataset\n",
    "data.sample(5)"
   ]
  },
  {
   "cell_type": "code",
   "execution_count": 64,
   "metadata": {},
   "outputs": [
    {
     "data": {
      "text/html": [
       "<div>\n",
       "<style scoped>\n",
       "    .dataframe tbody tr th:only-of-type {\n",
       "        vertical-align: middle;\n",
       "    }\n",
       "\n",
       "    .dataframe tbody tr th {\n",
       "        vertical-align: top;\n",
       "    }\n",
       "\n",
       "    .dataframe thead th {\n",
       "        text-align: right;\n",
       "    }\n",
       "</style>\n",
       "<table border=\"1\" class=\"dataframe\">\n",
       "  <thead>\n",
       "    <tr style=\"text-align: right;\">\n",
       "      <th></th>\n",
       "      <th>Age_group</th>\n",
       "      <th>Attrition</th>\n",
       "      <th>BusinessTravel</th>\n",
       "      <th>DailyRate</th>\n",
       "      <th>Department</th>\n",
       "      <th>Distance_group</th>\n",
       "      <th>Education</th>\n",
       "      <th>EducationField</th>\n",
       "      <th>EnvironmentSatisfaction</th>\n",
       "      <th>Gender</th>\n",
       "      <th>HourlyRate</th>\n",
       "      <th>JobInvolvement</th>\n",
       "      <th>JobLevel</th>\n",
       "      <th>JobRole</th>\n",
       "      <th>JobSatisfaction</th>\n",
       "      <th>MaritalStatus</th>\n",
       "      <th>MonthlyIncome</th>\n",
       "      <th>MonthlyRate</th>\n",
       "      <th>NumCompaniesWorked</th>\n",
       "      <th>Over18</th>\n",
       "      <th>OverTime</th>\n",
       "      <th>PercentSalaryHike</th>\n",
       "      <th>PerformanceRating</th>\n",
       "      <th>RelationshipSatisfaction</th>\n",
       "      <th>StandardHours</th>\n",
       "      <th>StockOptionLevel</th>\n",
       "      <th>TotalWorkingYears</th>\n",
       "      <th>TrainingTimesLastYear</th>\n",
       "      <th>WorkLifeBalance</th>\n",
       "      <th>YearsAtCompany</th>\n",
       "      <th>YearsInCurrentRole</th>\n",
       "      <th>YearsSinceLastPromotion</th>\n",
       "      <th>YearsWithCurrManager</th>\n",
       "    </tr>\n",
       "  </thead>\n",
       "  <tbody>\n",
       "    <tr>\n",
       "      <th>762</th>\n",
       "      <td>18-30</td>\n",
       "      <td>Yes</td>\n",
       "      <td>Travel_Frequently</td>\n",
       "      <td>342</td>\n",
       "      <td>Research &amp; Development</td>\n",
       "      <td>Near-by</td>\n",
       "      <td>Bachelors degree</td>\n",
       "      <td>Life Sciences</td>\n",
       "      <td>Very dissatisfied</td>\n",
       "      <td>Male</td>\n",
       "      <td>57</td>\n",
       "      <td>Satisfied</td>\n",
       "      <td>Entry level</td>\n",
       "      <td>Research Scientist</td>\n",
       "      <td>Very dissatisfied</td>\n",
       "      <td>Married</td>\n",
       "      <td>2042</td>\n",
       "      <td>15346</td>\n",
       "      <td>6</td>\n",
       "      <td>Y</td>\n",
       "      <td>Yes</td>\n",
       "      <td>14</td>\n",
       "      <td>Low</td>\n",
       "      <td>Dissatisfied</td>\n",
       "      <td>80</td>\n",
       "      <td>Level 2</td>\n",
       "      <td>1-10</td>\n",
       "      <td>2</td>\n",
       "      <td>Good</td>\n",
       "      <td>1-10</td>\n",
       "      <td>2</td>\n",
       "      <td>1</td>\n",
       "      <td>2</td>\n",
       "    </tr>\n",
       "    <tr>\n",
       "      <th>404</th>\n",
       "      <td>18-30</td>\n",
       "      <td>No</td>\n",
       "      <td>Travel_Rarely</td>\n",
       "      <td>1300</td>\n",
       "      <td>Research &amp; Development</td>\n",
       "      <td>Far</td>\n",
       "      <td>College</td>\n",
       "      <td>Medical</td>\n",
       "      <td>Satisfied</td>\n",
       "      <td>Male</td>\n",
       "      <td>79</td>\n",
       "      <td>Satisfied</td>\n",
       "      <td>Junior or Associate</td>\n",
       "      <td>Laboratory Technician</td>\n",
       "      <td>Very dissatisfied</td>\n",
       "      <td>Divorced</td>\n",
       "      <td>4558</td>\n",
       "      <td>13535</td>\n",
       "      <td>1</td>\n",
       "      <td>Y</td>\n",
       "      <td>No</td>\n",
       "      <td>12</td>\n",
       "      <td>Low</td>\n",
       "      <td>Very satisfied</td>\n",
       "      <td>80</td>\n",
       "      <td>Level 2</td>\n",
       "      <td>11-20</td>\n",
       "      <td>2</td>\n",
       "      <td>Good</td>\n",
       "      <td>11-20</td>\n",
       "      <td>0</td>\n",
       "      <td>1</td>\n",
       "      <td>8</td>\n",
       "    </tr>\n",
       "    <tr>\n",
       "      <th>1241</th>\n",
       "      <td>31-45</td>\n",
       "      <td>No</td>\n",
       "      <td>Travel_Rarely</td>\n",
       "      <td>371</td>\n",
       "      <td>Sales</td>\n",
       "      <td>Far</td>\n",
       "      <td>Bachelors degree</td>\n",
       "      <td>Life Sciences</td>\n",
       "      <td>Very satisfied</td>\n",
       "      <td>Male</td>\n",
       "      <td>80</td>\n",
       "      <td>Very dissatisfied</td>\n",
       "      <td>Mid level Specialist</td>\n",
       "      <td>Sales Executive</td>\n",
       "      <td>Satisfied</td>\n",
       "      <td>Married</td>\n",
       "      <td>9610</td>\n",
       "      <td>3840</td>\n",
       "      <td>3</td>\n",
       "      <td>Y</td>\n",
       "      <td>No</td>\n",
       "      <td>13</td>\n",
       "      <td>Low</td>\n",
       "      <td>Satisfied</td>\n",
       "      <td>80</td>\n",
       "      <td>Level 2</td>\n",
       "      <td>11-20</td>\n",
       "      <td>2</td>\n",
       "      <td>Bad</td>\n",
       "      <td>1-10</td>\n",
       "      <td>3</td>\n",
       "      <td>0</td>\n",
       "      <td>2</td>\n",
       "    </tr>\n",
       "    <tr>\n",
       "      <th>1106</th>\n",
       "      <td>18-30</td>\n",
       "      <td>Yes</td>\n",
       "      <td>Travel_Rarely</td>\n",
       "      <td>740</td>\n",
       "      <td>Sales</td>\n",
       "      <td>Near-by</td>\n",
       "      <td>Bachelors degree</td>\n",
       "      <td>Life Sciences</td>\n",
       "      <td>Dissatisfied</td>\n",
       "      <td>Male</td>\n",
       "      <td>64</td>\n",
       "      <td>Dissatisfied</td>\n",
       "      <td>Junior or Associate</td>\n",
       "      <td>Sales Executive</td>\n",
       "      <td>Very dissatisfied</td>\n",
       "      <td>Married</td>\n",
       "      <td>9714</td>\n",
       "      <td>5323</td>\n",
       "      <td>1</td>\n",
       "      <td>Y</td>\n",
       "      <td>No</td>\n",
       "      <td>11</td>\n",
       "      <td>Low</td>\n",
       "      <td>Very satisfied</td>\n",
       "      <td>80</td>\n",
       "      <td>Level 2</td>\n",
       "      <td>11-20</td>\n",
       "      <td>4</td>\n",
       "      <td>Good</td>\n",
       "      <td>11-20</td>\n",
       "      <td>8</td>\n",
       "      <td>6</td>\n",
       "      <td>7</td>\n",
       "    </tr>\n",
       "    <tr>\n",
       "      <th>1133</th>\n",
       "      <td>31-45</td>\n",
       "      <td>No</td>\n",
       "      <td>Travel_Rarely</td>\n",
       "      <td>990</td>\n",
       "      <td>Research &amp; Development</td>\n",
       "      <td>Very far</td>\n",
       "      <td>Bachelors degree</td>\n",
       "      <td>Technical Degree</td>\n",
       "      <td>Very satisfied</td>\n",
       "      <td>Male</td>\n",
       "      <td>87</td>\n",
       "      <td>Very satisfied</td>\n",
       "      <td>Entry level</td>\n",
       "      <td>Laboratory Technician</td>\n",
       "      <td>Dissatisfied</td>\n",
       "      <td>Divorced</td>\n",
       "      <td>4876</td>\n",
       "      <td>5855</td>\n",
       "      <td>5</td>\n",
       "      <td>Y</td>\n",
       "      <td>No</td>\n",
       "      <td>12</td>\n",
       "      <td>Low</td>\n",
       "      <td>Satisfied</td>\n",
       "      <td>80</td>\n",
       "      <td>Level 2</td>\n",
       "      <td>1-10</td>\n",
       "      <td>0</td>\n",
       "      <td>Good</td>\n",
       "      <td>1-10</td>\n",
       "      <td>4</td>\n",
       "      <td>0</td>\n",
       "      <td>2</td>\n",
       "    </tr>\n",
       "  </tbody>\n",
       "</table>\n",
       "</div>"
      ],
      "text/plain": [
       "     Age_group Attrition     BusinessTravel  DailyRate  \\\n",
       "762      18-30       Yes  Travel_Frequently        342   \n",
       "404      18-30        No      Travel_Rarely       1300   \n",
       "1241     31-45        No      Travel_Rarely        371   \n",
       "1106     18-30       Yes      Travel_Rarely        740   \n",
       "1133     31-45        No      Travel_Rarely        990   \n",
       "\n",
       "                  Department Distance_group         Education  \\\n",
       "762   Research & Development        Near-by  Bachelors degree   \n",
       "404   Research & Development            Far           College   \n",
       "1241                   Sales            Far  Bachelors degree   \n",
       "1106                   Sales        Near-by  Bachelors degree   \n",
       "1133  Research & Development       Very far  Bachelors degree   \n",
       "\n",
       "        EducationField EnvironmentSatisfaction Gender  HourlyRate  \\\n",
       "762      Life Sciences       Very dissatisfied   Male          57   \n",
       "404            Medical               Satisfied   Male          79   \n",
       "1241     Life Sciences          Very satisfied   Male          80   \n",
       "1106     Life Sciences            Dissatisfied   Male          64   \n",
       "1133  Technical Degree          Very satisfied   Male          87   \n",
       "\n",
       "         JobInvolvement              JobLevel                JobRole  \\\n",
       "762           Satisfied           Entry level     Research Scientist   \n",
       "404           Satisfied   Junior or Associate  Laboratory Technician   \n",
       "1241  Very dissatisfied  Mid level Specialist        Sales Executive   \n",
       "1106       Dissatisfied   Junior or Associate        Sales Executive   \n",
       "1133     Very satisfied           Entry level  Laboratory Technician   \n",
       "\n",
       "        JobSatisfaction MaritalStatus  MonthlyIncome  MonthlyRate  \\\n",
       "762   Very dissatisfied       Married           2042        15346   \n",
       "404   Very dissatisfied      Divorced           4558        13535   \n",
       "1241          Satisfied       Married           9610         3840   \n",
       "1106  Very dissatisfied       Married           9714         5323   \n",
       "1133       Dissatisfied      Divorced           4876         5855   \n",
       "\n",
       "      NumCompaniesWorked Over18 OverTime  PercentSalaryHike PerformanceRating  \\\n",
       "762                    6      Y      Yes                 14               Low   \n",
       "404                    1      Y       No                 12               Low   \n",
       "1241                   3      Y       No                 13               Low   \n",
       "1106                   1      Y       No                 11               Low   \n",
       "1133                   5      Y       No                 12               Low   \n",
       "\n",
       "     RelationshipSatisfaction  StandardHours StockOptionLevel  \\\n",
       "762              Dissatisfied             80          Level 2   \n",
       "404            Very satisfied             80          Level 2   \n",
       "1241                Satisfied             80          Level 2   \n",
       "1106           Very satisfied             80          Level 2   \n",
       "1133                Satisfied             80          Level 2   \n",
       "\n",
       "     TotalWorkingYears  TrainingTimesLastYear WorkLifeBalance YearsAtCompany  \\\n",
       "762               1-10                      2            Good           1-10   \n",
       "404              11-20                      2            Good          11-20   \n",
       "1241             11-20                      2             Bad           1-10   \n",
       "1106             11-20                      4            Good          11-20   \n",
       "1133              1-10                      0            Good           1-10   \n",
       "\n",
       "      YearsInCurrentRole  YearsSinceLastPromotion  YearsWithCurrManager  \n",
       "762                    2                        1                     2  \n",
       "404                    0                        1                     8  \n",
       "1241                   3                        0                     2  \n",
       "1106                   8                        6                     7  \n",
       "1133                   4                        0                     2  "
      ]
     },
     "execution_count": 64,
     "metadata": {},
     "output_type": "execute_result"
    }
   ],
   "source": [
    "# Cleaned dataset\n",
    "df.sample(5)"
   ]
  },
  {
   "cell_type": "code",
   "execution_count": 66,
   "metadata": {},
   "outputs": [],
   "source": [
    "# Save our cleaned data into a CSV file.\n",
    "df.to_csv('cleaned_attrition_dataset.csv', index=None)"
   ]
  }
 ],
 "metadata": {
  "kernelspec": {
   "display_name": "hr",
   "language": "python",
   "name": "python3"
  },
  "language_info": {
   "codemirror_mode": {
    "name": "ipython",
    "version": 3
   },
   "file_extension": ".py",
   "mimetype": "text/x-python",
   "name": "python",
   "nbconvert_exporter": "python",
   "pygments_lexer": "ipython3",
   "version": "3.12.2"
  }
 },
 "nbformat": 4,
 "nbformat_minor": 2
}
